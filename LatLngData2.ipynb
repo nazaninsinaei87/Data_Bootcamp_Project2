{
 "cells": [
  {
   "cell_type": "code",
   "execution_count": 1,
   "metadata": {
    "collapsed": true
   },
   "outputs": [],
   "source": [
    "import requests\n",
    "import json\n",
    "\n",
    "import pandas as pd\n",
    "\n",
    "file = \"winemag-data-130k-v2.csv\"\n",
    "### read data files into Data Frame\n",
    "wine_df = pd.read_csv(file, index_col = 0)"
   ]
  },
  {
   "cell_type": "code",
   "execution_count": 2,
   "metadata": {},
   "outputs": [
    {
     "data": {
      "text/plain": [
       "1230"
      ]
     },
     "execution_count": 2,
     "metadata": {},
     "output_type": "execute_result"
    }
   ],
   "source": [
    "# count of unique region_1\n",
    "len(wine_df.region_1.unique())"
   ]
  },
  {
   "cell_type": "code",
   "execution_count": 3,
   "metadata": {
    "collapsed": true
   },
   "outputs": [],
   "source": [
    "#### create a new dataframe with just the region1 and country.\n",
    "locations1_df = wine_df[['region_1', 'country']]"
   ]
  },
  {
   "cell_type": "code",
   "execution_count": 4,
   "metadata": {},
   "outputs": [
    {
     "data": {
      "text/html": [
       "<div>\n",
       "<style>\n",
       "    .dataframe thead tr:only-child th {\n",
       "        text-align: right;\n",
       "    }\n",
       "\n",
       "    .dataframe thead th {\n",
       "        text-align: left;\n",
       "    }\n",
       "\n",
       "    .dataframe tbody tr th {\n",
       "        vertical-align: top;\n",
       "    }\n",
       "</style>\n",
       "<table border=\"1\" class=\"dataframe\">\n",
       "  <thead>\n",
       "    <tr style=\"text-align: right;\">\n",
       "      <th></th>\n",
       "      <th>region_1</th>\n",
       "      <th>country</th>\n",
       "    </tr>\n",
       "    <tr>\n",
       "      <th>id</th>\n",
       "      <th></th>\n",
       "      <th></th>\n",
       "    </tr>\n",
       "  </thead>\n",
       "  <tbody>\n",
       "    <tr>\n",
       "      <th>0</th>\n",
       "      <td>Etna</td>\n",
       "      <td>Italy</td>\n",
       "    </tr>\n",
       "    <tr>\n",
       "      <th>1</th>\n",
       "      <td>NaN</td>\n",
       "      <td>Portugal</td>\n",
       "    </tr>\n",
       "    <tr>\n",
       "      <th>2</th>\n",
       "      <td>Willamette Valley</td>\n",
       "      <td>US</td>\n",
       "    </tr>\n",
       "    <tr>\n",
       "      <th>3</th>\n",
       "      <td>Lake Michigan Shore</td>\n",
       "      <td>US</td>\n",
       "    </tr>\n",
       "    <tr>\n",
       "      <th>4</th>\n",
       "      <td>Willamette Valley</td>\n",
       "      <td>US</td>\n",
       "    </tr>\n",
       "  </tbody>\n",
       "</table>\n",
       "</div>"
      ],
      "text/plain": [
       "               region_1   country\n",
       "id                               \n",
       "0                  Etna     Italy\n",
       "1                   NaN  Portugal\n",
       "2     Willamette Valley        US\n",
       "3   Lake Michigan Shore        US\n",
       "4     Willamette Valley        US"
      ]
     },
     "execution_count": 4,
     "metadata": {},
     "output_type": "execute_result"
    }
   ],
   "source": [
    "locations1_df.head(5)"
   ]
  },
  {
   "cell_type": "code",
   "execution_count": 5,
   "metadata": {},
   "outputs": [
    {
     "data": {
      "text/plain": [
       "129971"
      ]
     },
     "execution_count": 5,
     "metadata": {},
     "output_type": "execute_result"
    }
   ],
   "source": [
    "# total length of dataset\n",
    "len(locations1_df)"
   ]
  },
  {
   "cell_type": "code",
   "execution_count": 6,
   "metadata": {},
   "outputs": [
    {
     "data": {
      "text/plain": [
       "108724"
      ]
     },
     "execution_count": 6,
     "metadata": {},
     "output_type": "execute_result"
    }
   ],
   "source": [
    "# no of records with region_1 != Nan\n",
    "len(locations1_df.dropna(subset=[\"region_1\"]))"
   ]
  },
  {
   "cell_type": "code",
   "execution_count": 7,
   "metadata": {
    "collapsed": true
   },
   "outputs": [],
   "source": [
    "#### drop rows whose region_1 is NaN\n",
    "locations2_df = locations1_df.dropna(subset=[\"region_1\"])"
   ]
  },
  {
   "cell_type": "code",
   "execution_count": 8,
   "metadata": {},
   "outputs": [
    {
     "data": {
      "text/plain": [
       "108724"
      ]
     },
     "execution_count": 8,
     "metadata": {},
     "output_type": "execute_result"
    }
   ],
   "source": [
    "len(locations2_df)"
   ]
  },
  {
   "cell_type": "code",
   "execution_count": 9,
   "metadata": {
    "collapsed": true
   },
   "outputs": [],
   "source": [
    "# drop all duplicate rows ..to get unique region_1 & country\n",
    "loc_df = locations2_df.drop_duplicates(subset=None, keep='first', inplace=False)"
   ]
  },
  {
   "cell_type": "code",
   "execution_count": 10,
   "metadata": {},
   "outputs": [
    {
     "data": {
      "text/plain": [
       "1230"
      ]
     },
     "execution_count": 10,
     "metadata": {},
     "output_type": "execute_result"
    }
   ],
   "source": [
    "loc_df.head()\n",
    "len(loc_df)"
   ]
  },
  {
   "cell_type": "code",
   "execution_count": 11,
   "metadata": {
    "collapsed": true
   },
   "outputs": [],
   "source": [
    "# import geocoder library\n",
    "import geocoder"
   ]
  },
  {
   "cell_type": "code",
   "execution_count": 20,
   "metadata": {},
   "outputs": [],
   "source": [
    "# loop thru the loc_df and find the co-ordinates for each (region, country)\n",
    "coord1 =[]\n",
    "for index, row in loc_df.iterrows():\n",
    "        g = (row[\"region_1\"], row[\"country\"])\n",
    "        g_coord = geocoder.google(g)\n",
    "        coord1.append(g_coord.latlng)\n"
   ]
  },
  {
   "cell_type": "code",
   "execution_count": 21,
   "metadata": {},
   "outputs": [
    {
     "data": {
      "text/plain": [
       "[37.751005, 14.9934349]"
      ]
     },
     "execution_count": 21,
     "metadata": {},
     "output_type": "execute_result"
    }
   ],
   "source": [
    "coord1[0]"
   ]
  },
  {
   "cell_type": "code",
   "execution_count": 22,
   "metadata": {},
   "outputs": [
    {
     "data": {
      "text/plain": [
       "1230"
      ]
     },
     "execution_count": 22,
     "metadata": {},
     "output_type": "execute_result"
    }
   ],
   "source": [
    "len(coord1)"
   ]
  },
  {
   "cell_type": "code",
   "execution_count": 23,
   "metadata": {},
   "outputs": [
    {
     "name": "stderr",
     "output_type": "stream",
     "text": [
      "/Users/janakidevikora/anaconda3/envs/PythonData/lib/python3.6/site-packages/ipykernel/__main__.py:2: SettingWithCopyWarning: \n",
      "A value is trying to be set on a copy of a slice from a DataFrame.\n",
      "Try using .loc[row_indexer,col_indexer] = value instead\n",
      "\n",
      "See the caveats in the documentation: http://pandas.pydata.org/pandas-docs/stable/indexing.html#indexing-view-versus-copy\n",
      "  from ipykernel import kernelapp as app\n"
     ]
    }
   ],
   "source": [
    "# append the co-ordiantes to the loc_df dataframe as a new column \"coordiantes\"\n",
    "loc_df[\"coordinates\"] = coord1"
   ]
  },
  {
   "cell_type": "code",
   "execution_count": 24,
   "metadata": {},
   "outputs": [
    {
     "data": {
      "text/html": [
       "<div>\n",
       "<style>\n",
       "    .dataframe thead tr:only-child th {\n",
       "        text-align: right;\n",
       "    }\n",
       "\n",
       "    .dataframe thead th {\n",
       "        text-align: left;\n",
       "    }\n",
       "\n",
       "    .dataframe tbody tr th {\n",
       "        vertical-align: top;\n",
       "    }\n",
       "</style>\n",
       "<table border=\"1\" class=\"dataframe\">\n",
       "  <thead>\n",
       "    <tr style=\"text-align: right;\">\n",
       "      <th></th>\n",
       "      <th>region_1</th>\n",
       "      <th>country</th>\n",
       "      <th>coordinates</th>\n",
       "    </tr>\n",
       "    <tr>\n",
       "      <th>id</th>\n",
       "      <th></th>\n",
       "      <th></th>\n",
       "      <th></th>\n",
       "    </tr>\n",
       "  </thead>\n",
       "  <tbody>\n",
       "    <tr>\n",
       "      <th>0</th>\n",
       "      <td>Etna</td>\n",
       "      <td>Italy</td>\n",
       "      <td>[37.751005, 14.9934349]</td>\n",
       "    </tr>\n",
       "    <tr>\n",
       "      <th>2</th>\n",
       "      <td>Willamette Valley</td>\n",
       "      <td>US</td>\n",
       "      <td>[44.942554, -122.9337615]</td>\n",
       "    </tr>\n",
       "    <tr>\n",
       "      <th>3</th>\n",
       "      <td>Lake Michigan Shore</td>\n",
       "      <td>US</td>\n",
       "      <td>[43.8348105, -85.0720293]</td>\n",
       "    </tr>\n",
       "    <tr>\n",
       "      <th>5</th>\n",
       "      <td>Navarra</td>\n",
       "      <td>Spain</td>\n",
       "      <td>None</td>\n",
       "    </tr>\n",
       "    <tr>\n",
       "      <th>6</th>\n",
       "      <td>Vittoria</td>\n",
       "      <td>Italy</td>\n",
       "      <td>None</td>\n",
       "    </tr>\n",
       "  </tbody>\n",
       "</table>\n",
       "</div>"
      ],
      "text/plain": [
       "               region_1 country                coordinates\n",
       "id                                                        \n",
       "0                  Etna   Italy    [37.751005, 14.9934349]\n",
       "2     Willamette Valley      US  [44.942554, -122.9337615]\n",
       "3   Lake Michigan Shore      US  [43.8348105, -85.0720293]\n",
       "5               Navarra   Spain                       None\n",
       "6              Vittoria   Italy                       None"
      ]
     },
     "execution_count": 24,
     "metadata": {},
     "output_type": "execute_result"
    }
   ],
   "source": [
    "loc_df.head(5)"
   ]
  },
  {
   "cell_type": "code",
   "execution_count": 21,
   "metadata": {
    "collapsed": true
   },
   "outputs": [],
   "source": [
    "# save the dataframe to csv\n",
    "loc_df.to_csv('region_data.csv', index = False)"
   ]
  },
  {
   "cell_type": "code",
   "execution_count": 29,
   "metadata": {},
   "outputs": [],
   "source": [
    "loc_df = loc_df.dropna(subset=[\"coordinates\"])"
   ]
  },
  {
   "cell_type": "code",
   "execution_count": 34,
   "metadata": {},
   "outputs": [
    {
     "data": {
      "text/plain": [
       "37.751005"
      ]
     },
     "execution_count": 34,
     "metadata": {},
     "output_type": "execute_result"
    }
   ],
   "source": [
    "loc_df[\"coordinates\"][0][0]"
   ]
  },
  {
   "cell_type": "code",
   "execution_count": 44,
   "metadata": {},
   "outputs": [],
   "source": [
    "lat = []\n",
    "lng = []\n",
    "for index, row in loc_df.iterrows():\n",
    "    lat.append(row.coordinates[0])\n",
    "    lng.append(row.coordinates[1])"
   ]
  },
  {
   "cell_type": "code",
   "execution_count": 49,
   "metadata": {},
   "outputs": [],
   "source": [
    "loc_df[\"latitude\"] = lat"
   ]
  },
  {
   "cell_type": "code",
   "execution_count": 50,
   "metadata": {
    "collapsed": true
   },
   "outputs": [],
   "source": [
    "loc_df[\"longitude\"] = lng"
   ]
  },
  {
   "cell_type": "code",
   "execution_count": 51,
   "metadata": {},
   "outputs": [
    {
     "data": {
      "text/html": [
       "<div>\n",
       "<style>\n",
       "    .dataframe thead tr:only-child th {\n",
       "        text-align: right;\n",
       "    }\n",
       "\n",
       "    .dataframe thead th {\n",
       "        text-align: left;\n",
       "    }\n",
       "\n",
       "    .dataframe tbody tr th {\n",
       "        vertical-align: top;\n",
       "    }\n",
       "</style>\n",
       "<table border=\"1\" class=\"dataframe\">\n",
       "  <thead>\n",
       "    <tr style=\"text-align: right;\">\n",
       "      <th></th>\n",
       "      <th>region_1</th>\n",
       "      <th>country</th>\n",
       "      <th>coordinates</th>\n",
       "      <th>latitude</th>\n",
       "      <th>longitude</th>\n",
       "    </tr>\n",
       "    <tr>\n",
       "      <th>id</th>\n",
       "      <th></th>\n",
       "      <th></th>\n",
       "      <th></th>\n",
       "      <th></th>\n",
       "      <th></th>\n",
       "    </tr>\n",
       "  </thead>\n",
       "  <tbody>\n",
       "    <tr>\n",
       "      <th>0</th>\n",
       "      <td>Etna</td>\n",
       "      <td>Italy</td>\n",
       "      <td>[37.751005, 14.9934349]</td>\n",
       "      <td>37.751005</td>\n",
       "      <td>14.993435</td>\n",
       "    </tr>\n",
       "    <tr>\n",
       "      <th>2</th>\n",
       "      <td>Willamette Valley</td>\n",
       "      <td>US</td>\n",
       "      <td>[44.942554, -122.9337615]</td>\n",
       "      <td>44.942554</td>\n",
       "      <td>-122.933762</td>\n",
       "    </tr>\n",
       "    <tr>\n",
       "      <th>3</th>\n",
       "      <td>Lake Michigan Shore</td>\n",
       "      <td>US</td>\n",
       "      <td>[43.8348105, -85.0720293]</td>\n",
       "      <td>43.834811</td>\n",
       "      <td>-85.072029</td>\n",
       "    </tr>\n",
       "    <tr>\n",
       "      <th>7</th>\n",
       "      <td>Alsace</td>\n",
       "      <td>France</td>\n",
       "      <td>[48.3181795, 7.441624099999999]</td>\n",
       "      <td>48.318179</td>\n",
       "      <td>7.441624</td>\n",
       "    </tr>\n",
       "    <tr>\n",
       "      <th>10</th>\n",
       "      <td>Napa Valley</td>\n",
       "      <td>US</td>\n",
       "      <td>[38.5024689, -122.2653887]</td>\n",
       "      <td>38.502469</td>\n",
       "      <td>-122.265389</td>\n",
       "    </tr>\n",
       "  </tbody>\n",
       "</table>\n",
       "</div>"
      ],
      "text/plain": [
       "               region_1 country                      coordinates   latitude  \\\n",
       "id                                                                            \n",
       "0                  Etna   Italy          [37.751005, 14.9934349]  37.751005   \n",
       "2     Willamette Valley      US        [44.942554, -122.9337615]  44.942554   \n",
       "3   Lake Michigan Shore      US        [43.8348105, -85.0720293]  43.834811   \n",
       "7                Alsace  France  [48.3181795, 7.441624099999999]  48.318179   \n",
       "10          Napa Valley      US       [38.5024689, -122.2653887]  38.502469   \n",
       "\n",
       "     longitude  \n",
       "id              \n",
       "0    14.993435  \n",
       "2  -122.933762  \n",
       "3   -85.072029  \n",
       "7     7.441624  \n",
       "10 -122.265389  "
      ]
     },
     "execution_count": 51,
     "metadata": {},
     "output_type": "execute_result"
    }
   ],
   "source": [
    "loc_df.head(5)"
   ]
  },
  {
   "cell_type": "code",
   "execution_count": 53,
   "metadata": {},
   "outputs": [],
   "source": [
    "loc_df = loc_df.drop([\"coordinates\"], axis=1)"
   ]
  },
  {
   "cell_type": "code",
   "execution_count": 54,
   "metadata": {},
   "outputs": [
    {
     "data": {
      "text/html": [
       "<div>\n",
       "<style>\n",
       "    .dataframe thead tr:only-child th {\n",
       "        text-align: right;\n",
       "    }\n",
       "\n",
       "    .dataframe thead th {\n",
       "        text-align: left;\n",
       "    }\n",
       "\n",
       "    .dataframe tbody tr th {\n",
       "        vertical-align: top;\n",
       "    }\n",
       "</style>\n",
       "<table border=\"1\" class=\"dataframe\">\n",
       "  <thead>\n",
       "    <tr style=\"text-align: right;\">\n",
       "      <th></th>\n",
       "      <th>region_1</th>\n",
       "      <th>country</th>\n",
       "      <th>latitude</th>\n",
       "      <th>longitude</th>\n",
       "    </tr>\n",
       "    <tr>\n",
       "      <th>id</th>\n",
       "      <th></th>\n",
       "      <th></th>\n",
       "      <th></th>\n",
       "      <th></th>\n",
       "    </tr>\n",
       "  </thead>\n",
       "  <tbody>\n",
       "    <tr>\n",
       "      <th>0</th>\n",
       "      <td>Etna</td>\n",
       "      <td>Italy</td>\n",
       "      <td>37.751005</td>\n",
       "      <td>14.993435</td>\n",
       "    </tr>\n",
       "    <tr>\n",
       "      <th>2</th>\n",
       "      <td>Willamette Valley</td>\n",
       "      <td>US</td>\n",
       "      <td>44.942554</td>\n",
       "      <td>-122.933762</td>\n",
       "    </tr>\n",
       "    <tr>\n",
       "      <th>3</th>\n",
       "      <td>Lake Michigan Shore</td>\n",
       "      <td>US</td>\n",
       "      <td>43.834811</td>\n",
       "      <td>-85.072029</td>\n",
       "    </tr>\n",
       "    <tr>\n",
       "      <th>7</th>\n",
       "      <td>Alsace</td>\n",
       "      <td>France</td>\n",
       "      <td>48.318179</td>\n",
       "      <td>7.441624</td>\n",
       "    </tr>\n",
       "    <tr>\n",
       "      <th>10</th>\n",
       "      <td>Napa Valley</td>\n",
       "      <td>US</td>\n",
       "      <td>38.502469</td>\n",
       "      <td>-122.265389</td>\n",
       "    </tr>\n",
       "    <tr>\n",
       "      <th>12</th>\n",
       "      <td>Alexander Valley</td>\n",
       "      <td>US</td>\n",
       "      <td>38.656490</td>\n",
       "      <td>-122.786907</td>\n",
       "    </tr>\n",
       "    <tr>\n",
       "      <th>14</th>\n",
       "      <td>Central Coast</td>\n",
       "      <td>US</td>\n",
       "      <td>-33.320842</td>\n",
       "      <td>151.233559</td>\n",
       "    </tr>\n",
       "    <tr>\n",
       "      <th>16</th>\n",
       "      <td>Cafayate</td>\n",
       "      <td>Argentina</td>\n",
       "      <td>-26.073080</td>\n",
       "      <td>-65.976052</td>\n",
       "    </tr>\n",
       "    <tr>\n",
       "      <th>17</th>\n",
       "      <td>Mendoza</td>\n",
       "      <td>Argentina</td>\n",
       "      <td>-32.889459</td>\n",
       "      <td>-68.845839</td>\n",
       "    </tr>\n",
       "    <tr>\n",
       "      <th>18</th>\n",
       "      <td>Ribera del Duero</td>\n",
       "      <td>Spain</td>\n",
       "      <td>41.782004</td>\n",
       "      <td>-3.662324</td>\n",
       "    </tr>\n",
       "    <tr>\n",
       "      <th>19</th>\n",
       "      <td>Virginia</td>\n",
       "      <td>US</td>\n",
       "      <td>37.431573</td>\n",
       "      <td>-78.656894</td>\n",
       "    </tr>\n",
       "    <tr>\n",
       "      <th>21</th>\n",
       "      <td>Oregon</td>\n",
       "      <td>US</td>\n",
       "      <td>43.804133</td>\n",
       "      <td>-120.554201</td>\n",
       "    </tr>\n",
       "    <tr>\n",
       "      <th>22</th>\n",
       "      <td>Sicilia</td>\n",
       "      <td>Italy</td>\n",
       "      <td>37.599994</td>\n",
       "      <td>14.015356</td>\n",
       "    </tr>\n",
       "    <tr>\n",
       "      <th>23</th>\n",
       "      <td>Paso Robles</td>\n",
       "      <td>US</td>\n",
       "      <td>35.636876</td>\n",
       "      <td>-120.654502</td>\n",
       "    </tr>\n",
       "    <tr>\n",
       "      <th>25</th>\n",
       "      <td>Sonoma Coast</td>\n",
       "      <td>US</td>\n",
       "      <td>38.405270</td>\n",
       "      <td>-123.096764</td>\n",
       "    </tr>\n",
       "    <tr>\n",
       "      <th>26</th>\n",
       "      <td>Terre Siciliane</td>\n",
       "      <td>Italy</td>\n",
       "      <td>37.794625</td>\n",
       "      <td>12.478908</td>\n",
       "    </tr>\n",
       "    <tr>\n",
       "      <th>28</th>\n",
       "      <td>Cerasuolo di Vittoria</td>\n",
       "      <td>Italy</td>\n",
       "      <td>36.972809</td>\n",
       "      <td>14.551606</td>\n",
       "    </tr>\n",
       "    <tr>\n",
       "      <th>29</th>\n",
       "      <td>Clarksburg</td>\n",
       "      <td>US</td>\n",
       "      <td>39.280645</td>\n",
       "      <td>-80.344534</td>\n",
       "    </tr>\n",
       "    <tr>\n",
       "      <th>30</th>\n",
       "      <td>Beaujolais-Villages</td>\n",
       "      <td>France</td>\n",
       "      <td>38.338128</td>\n",
       "      <td>-122.670503</td>\n",
       "    </tr>\n",
       "    <tr>\n",
       "      <th>33</th>\n",
       "      <td>Dry Creek Valley</td>\n",
       "      <td>US</td>\n",
       "      <td>38.610540</td>\n",
       "      <td>-122.873166</td>\n",
       "    </tr>\n",
       "    <tr>\n",
       "      <th>34</th>\n",
       "      <td>Sonoma Valley</td>\n",
       "      <td>US</td>\n",
       "      <td>38.291859</td>\n",
       "      <td>-122.458036</td>\n",
       "    </tr>\n",
       "    <tr>\n",
       "      <th>35</th>\n",
       "      <td>McMinnville</td>\n",
       "      <td>US</td>\n",
       "      <td>45.210116</td>\n",
       "      <td>-123.198716</td>\n",
       "    </tr>\n",
       "    <tr>\n",
       "      <th>38</th>\n",
       "      <td>Puglia</td>\n",
       "      <td>Italy</td>\n",
       "      <td>40.792839</td>\n",
       "      <td>17.101193</td>\n",
       "    </tr>\n",
       "    <tr>\n",
       "      <th>42</th>\n",
       "      <td>Beaujolais</td>\n",
       "      <td>France</td>\n",
       "      <td>46.113435</td>\n",
       "      <td>4.726386</td>\n",
       "    </tr>\n",
       "    <tr>\n",
       "      <th>47</th>\n",
       "      <td>Lake County</td>\n",
       "      <td>US</td>\n",
       "      <td>42.368936</td>\n",
       "      <td>-87.827153</td>\n",
       "    </tr>\n",
       "    <tr>\n",
       "      <th>48</th>\n",
       "      <td>Monticello</td>\n",
       "      <td>US</td>\n",
       "      <td>38.008604</td>\n",
       "      <td>-78.453199</td>\n",
       "    </tr>\n",
       "    <tr>\n",
       "      <th>49</th>\n",
       "      <td>Brouilly</td>\n",
       "      <td>France</td>\n",
       "      <td>45.844705</td>\n",
       "      <td>4.409160</td>\n",
       "    </tr>\n",
       "    <tr>\n",
       "      <th>52</th>\n",
       "      <td>Monica di Sardegna</td>\n",
       "      <td>Italy</td>\n",
       "      <td>40.826294</td>\n",
       "      <td>8.407570</td>\n",
       "    </tr>\n",
       "    <tr>\n",
       "      <th>53</th>\n",
       "      <td>Bordeaux Blanc</td>\n",
       "      <td>France</td>\n",
       "      <td>29.783476</td>\n",
       "      <td>-98.254447</td>\n",
       "    </tr>\n",
       "    <tr>\n",
       "      <th>56</th>\n",
       "      <td>North Coast</td>\n",
       "      <td>US</td>\n",
       "      <td>33.235941</td>\n",
       "      <td>-117.255003</td>\n",
       "    </tr>\n",
       "    <tr>\n",
       "      <th>...</th>\n",
       "      <td>...</td>\n",
       "      <td>...</td>\n",
       "      <td>...</td>\n",
       "      <td>...</td>\n",
       "    </tr>\n",
       "    <tr>\n",
       "      <th>102674</th>\n",
       "      <td>Texoma</td>\n",
       "      <td>US</td>\n",
       "      <td>33.799824</td>\n",
       "      <td>-96.578339</td>\n",
       "    </tr>\n",
       "    <tr>\n",
       "      <th>102690</th>\n",
       "      <td>Capay Valley</td>\n",
       "      <td>US</td>\n",
       "      <td>38.709359</td>\n",
       "      <td>-122.121272</td>\n",
       "    </tr>\n",
       "    <tr>\n",
       "      <th>103534</th>\n",
       "      <td>Fleurieu Peninsula</td>\n",
       "      <td>Australia</td>\n",
       "      <td>-35.500000</td>\n",
       "      <td>138.500000</td>\n",
       "    </tr>\n",
       "    <tr>\n",
       "      <th>103613</th>\n",
       "      <td>Cacc’e Mmitte di Lucera</td>\n",
       "      <td>Italy</td>\n",
       "      <td>41.505481</td>\n",
       "      <td>15.338528</td>\n",
       "    </tr>\n",
       "    <tr>\n",
       "      <th>106425</th>\n",
       "      <td>Sonoma-Napa-Monterey</td>\n",
       "      <td>US</td>\n",
       "      <td>36.600238</td>\n",
       "      <td>-121.894676</td>\n",
       "    </tr>\n",
       "    <tr>\n",
       "      <th>106782</th>\n",
       "      <td>Collioure</td>\n",
       "      <td>France</td>\n",
       "      <td>42.526752</td>\n",
       "      <td>3.084631</td>\n",
       "    </tr>\n",
       "    <tr>\n",
       "      <th>107450</th>\n",
       "      <td>Saint Guilhem le Désert</td>\n",
       "      <td>France</td>\n",
       "      <td>43.734434</td>\n",
       "      <td>3.549015</td>\n",
       "    </tr>\n",
       "    <tr>\n",
       "      <th>108036</th>\n",
       "      <td>Catalanesca del Monte Somma</td>\n",
       "      <td>Italy</td>\n",
       "      <td>40.833333</td>\n",
       "      <td>14.433333</td>\n",
       "    </tr>\n",
       "    <tr>\n",
       "      <th>108866</th>\n",
       "      <td>Hawaii</td>\n",
       "      <td>US</td>\n",
       "      <td>19.896766</td>\n",
       "      <td>-155.582782</td>\n",
       "    </tr>\n",
       "    <tr>\n",
       "      <th>109018</th>\n",
       "      <td>San Gimignano</td>\n",
       "      <td>Italy</td>\n",
       "      <td>43.467632</td>\n",
       "      <td>11.043491</td>\n",
       "    </tr>\n",
       "    <tr>\n",
       "      <th>110555</th>\n",
       "      <td>Offida Rosso</td>\n",
       "      <td>Italy</td>\n",
       "      <td>42.940863</td>\n",
       "      <td>13.696505</td>\n",
       "    </tr>\n",
       "    <tr>\n",
       "      <th>110596</th>\n",
       "      <td>Côtes de Montravel</td>\n",
       "      <td>France</td>\n",
       "      <td>44.816677</td>\n",
       "      <td>0.071017</td>\n",
       "    </tr>\n",
       "    <tr>\n",
       "      <th>111558</th>\n",
       "      <td>Todi</td>\n",
       "      <td>Italy</td>\n",
       "      <td>42.781935</td>\n",
       "      <td>12.406569</td>\n",
       "    </tr>\n",
       "    <tr>\n",
       "      <th>111650</th>\n",
       "      <td>Colli del Limbara</td>\n",
       "      <td>Italy</td>\n",
       "      <td>40.850000</td>\n",
       "      <td>9.166667</td>\n",
       "    </tr>\n",
       "    <tr>\n",
       "      <th>111876</th>\n",
       "      <td>Catamarca</td>\n",
       "      <td>Argentina</td>\n",
       "      <td>-28.471588</td>\n",
       "      <td>-65.787721</td>\n",
       "    </tr>\n",
       "    <tr>\n",
       "      <th>116323</th>\n",
       "      <td>Langhorne Creek-Limestone Coast</td>\n",
       "      <td>Australia</td>\n",
       "      <td>-35.296256</td>\n",
       "      <td>139.038277</td>\n",
       "    </tr>\n",
       "    <tr>\n",
       "      <th>116388</th>\n",
       "      <td>Coda di Volpe d'Irpinia</td>\n",
       "      <td>Italy</td>\n",
       "      <td>41.942646</td>\n",
       "      <td>-87.663582</td>\n",
       "    </tr>\n",
       "    <tr>\n",
       "      <th>116979</th>\n",
       "      <td>Squinzano</td>\n",
       "      <td>Italy</td>\n",
       "      <td>40.434991</td>\n",
       "      <td>18.042174</td>\n",
       "    </tr>\n",
       "    <tr>\n",
       "      <th>117168</th>\n",
       "      <td>Barossa-Adelaide Hills</td>\n",
       "      <td>Australia</td>\n",
       "      <td>-34.987046</td>\n",
       "      <td>138.552258</td>\n",
       "    </tr>\n",
       "    <tr>\n",
       "      <th>118680</th>\n",
       "      <td>Monterey County-Napa County</td>\n",
       "      <td>US</td>\n",
       "      <td>38.176892</td>\n",
       "      <td>-122.266434</td>\n",
       "    </tr>\n",
       "    <tr>\n",
       "      <th>120498</th>\n",
       "      <td>Est! Est!! Est!!! di Montefiascone</td>\n",
       "      <td>Italy</td>\n",
       "      <td>42.533851</td>\n",
       "      <td>12.041377</td>\n",
       "    </tr>\n",
       "    <tr>\n",
       "      <th>121341</th>\n",
       "      <td>Terrasses du Larzac</td>\n",
       "      <td>France</td>\n",
       "      <td>43.931016</td>\n",
       "      <td>3.242606</td>\n",
       "    </tr>\n",
       "    <tr>\n",
       "      <th>123266</th>\n",
       "      <td>Apremont</td>\n",
       "      <td>France</td>\n",
       "      <td>46.749352</td>\n",
       "      <td>-1.741805</td>\n",
       "    </tr>\n",
       "    <tr>\n",
       "      <th>123726</th>\n",
       "      <td>San Diego County</td>\n",
       "      <td>US</td>\n",
       "      <td>32.715730</td>\n",
       "      <td>-117.161097</td>\n",
       "    </tr>\n",
       "    <tr>\n",
       "      <th>123755</th>\n",
       "      <td>Niagara Escarpment</td>\n",
       "      <td>US</td>\n",
       "      <td>44.718052</td>\n",
       "      <td>-87.595095</td>\n",
       "    </tr>\n",
       "    <tr>\n",
       "      <th>126567</th>\n",
       "      <td>Sonoma-Napa-Lake</td>\n",
       "      <td>US</td>\n",
       "      <td>38.547148</td>\n",
       "      <td>-122.510345</td>\n",
       "    </tr>\n",
       "    <tr>\n",
       "      <th>126987</th>\n",
       "      <td>Sonoma County-Santa Barbara County</td>\n",
       "      <td>US</td>\n",
       "      <td>38.332858</td>\n",
       "      <td>-122.699278</td>\n",
       "    </tr>\n",
       "    <tr>\n",
       "      <th>129331</th>\n",
       "      <td>Del Veneto</td>\n",
       "      <td>Italy</td>\n",
       "      <td>45.762333</td>\n",
       "      <td>11.690976</td>\n",
       "    </tr>\n",
       "    <tr>\n",
       "      <th>129411</th>\n",
       "      <td>Bardolino Superiore</td>\n",
       "      <td>Italy</td>\n",
       "      <td>45.425408</td>\n",
       "      <td>9.140879</td>\n",
       "    </tr>\n",
       "    <tr>\n",
       "      <th>129760</th>\n",
       "      <td>Paestum</td>\n",
       "      <td>Italy</td>\n",
       "      <td>40.423151</td>\n",
       "      <td>15.007163</td>\n",
       "    </tr>\n",
       "  </tbody>\n",
       "</table>\n",
       "<p>1081 rows × 4 columns</p>\n",
       "</div>"
      ],
      "text/plain": [
       "                                  region_1    country   latitude   longitude\n",
       "id                                                                          \n",
       "0                                     Etna      Italy  37.751005   14.993435\n",
       "2                        Willamette Valley         US  44.942554 -122.933762\n",
       "3                      Lake Michigan Shore         US  43.834811  -85.072029\n",
       "7                                   Alsace     France  48.318179    7.441624\n",
       "10                             Napa Valley         US  38.502469 -122.265389\n",
       "12                        Alexander Valley         US  38.656490 -122.786907\n",
       "14                           Central Coast         US -33.320842  151.233559\n",
       "16                                Cafayate  Argentina -26.073080  -65.976052\n",
       "17                                 Mendoza  Argentina -32.889459  -68.845839\n",
       "18                        Ribera del Duero      Spain  41.782004   -3.662324\n",
       "19                                Virginia         US  37.431573  -78.656894\n",
       "21                                  Oregon         US  43.804133 -120.554201\n",
       "22                                 Sicilia      Italy  37.599994   14.015356\n",
       "23                             Paso Robles         US  35.636876 -120.654502\n",
       "25                            Sonoma Coast         US  38.405270 -123.096764\n",
       "26                         Terre Siciliane      Italy  37.794625   12.478908\n",
       "28                   Cerasuolo di Vittoria      Italy  36.972809   14.551606\n",
       "29                              Clarksburg         US  39.280645  -80.344534\n",
       "30                     Beaujolais-Villages     France  38.338128 -122.670503\n",
       "33                        Dry Creek Valley         US  38.610540 -122.873166\n",
       "34                           Sonoma Valley         US  38.291859 -122.458036\n",
       "35                             McMinnville         US  45.210116 -123.198716\n",
       "38                                  Puglia      Italy  40.792839   17.101193\n",
       "42                              Beaujolais     France  46.113435    4.726386\n",
       "47                             Lake County         US  42.368936  -87.827153\n",
       "48                              Monticello         US  38.008604  -78.453199\n",
       "49                                Brouilly     France  45.844705    4.409160\n",
       "52                      Monica di Sardegna      Italy  40.826294    8.407570\n",
       "53                          Bordeaux Blanc     France  29.783476  -98.254447\n",
       "56                             North Coast         US  33.235941 -117.255003\n",
       "...                                    ...        ...        ...         ...\n",
       "102674                              Texoma         US  33.799824  -96.578339\n",
       "102690                        Capay Valley         US  38.709359 -122.121272\n",
       "103534                  Fleurieu Peninsula  Australia -35.500000  138.500000\n",
       "103613             Cacc’e Mmitte di Lucera      Italy  41.505481   15.338528\n",
       "106425                Sonoma-Napa-Monterey         US  36.600238 -121.894676\n",
       "106782                           Collioure     France  42.526752    3.084631\n",
       "107450             Saint Guilhem le Désert     France  43.734434    3.549015\n",
       "108036         Catalanesca del Monte Somma      Italy  40.833333   14.433333\n",
       "108866                              Hawaii         US  19.896766 -155.582782\n",
       "109018                       San Gimignano      Italy  43.467632   11.043491\n",
       "110555                        Offida Rosso      Italy  42.940863   13.696505\n",
       "110596                  Côtes de Montravel     France  44.816677    0.071017\n",
       "111558                                Todi      Italy  42.781935   12.406569\n",
       "111650                   Colli del Limbara      Italy  40.850000    9.166667\n",
       "111876                           Catamarca  Argentina -28.471588  -65.787721\n",
       "116323     Langhorne Creek-Limestone Coast  Australia -35.296256  139.038277\n",
       "116388             Coda di Volpe d'Irpinia      Italy  41.942646  -87.663582\n",
       "116979                           Squinzano      Italy  40.434991   18.042174\n",
       "117168              Barossa-Adelaide Hills  Australia -34.987046  138.552258\n",
       "118680         Monterey County-Napa County         US  38.176892 -122.266434\n",
       "120498  Est! Est!! Est!!! di Montefiascone      Italy  42.533851   12.041377\n",
       "121341                 Terrasses du Larzac     France  43.931016    3.242606\n",
       "123266                            Apremont     France  46.749352   -1.741805\n",
       "123726                    San Diego County         US  32.715730 -117.161097\n",
       "123755                  Niagara Escarpment         US  44.718052  -87.595095\n",
       "126567                    Sonoma-Napa-Lake         US  38.547148 -122.510345\n",
       "126987  Sonoma County-Santa Barbara County         US  38.332858 -122.699278\n",
       "129331                          Del Veneto      Italy  45.762333   11.690976\n",
       "129411                 Bardolino Superiore      Italy  45.425408    9.140879\n",
       "129760                             Paestum      Italy  40.423151   15.007163\n",
       "\n",
       "[1081 rows x 4 columns]"
      ]
     },
     "execution_count": 54,
     "metadata": {},
     "output_type": "execute_result"
    }
   ],
   "source": [
    "loc_df"
   ]
  },
  {
   "cell_type": "code",
   "execution_count": 55,
   "metadata": {
    "collapsed": true
   },
   "outputs": [],
   "source": [
    "# save the dataframe to csv\n",
    "loc_df.to_csv('region_data_new.csv', index = False)"
   ]
  },
  {
   "cell_type": "code",
   "execution_count": null,
   "metadata": {
    "collapsed": true
   },
   "outputs": [],
   "source": []
  }
 ],
 "metadata": {
  "kernelspec": {
   "display_name": "Python [conda env:PythonData]",
   "language": "python",
   "name": "conda-env-PythonData-py"
  },
  "language_info": {
   "codemirror_mode": {
    "name": "ipython",
    "version": 3
   },
   "file_extension": ".py",
   "mimetype": "text/x-python",
   "name": "python",
   "nbconvert_exporter": "python",
   "pygments_lexer": "ipython3",
   "version": "3.6.3"
  }
 },
 "nbformat": 4,
 "nbformat_minor": 2
}
